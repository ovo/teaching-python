{
 "cells": [
  {
   "cell_type": "markdown",
   "id": "30864356",
   "metadata": {},
   "source": [
    "# Variables\n",
    "---\n",
    "Python stores values in *variables*. Unlike other languages, you do not have to specify the type of variable when creating them. You can initialize variables with the `=` operator, and reassign them the same way. Python variables should be named using *snake case* naming convention (this_is_snake_case)."
   ]
  },
  {
   "cell_type": "code",
   "execution_count": 1,
   "id": "912b74fa",
   "metadata": {},
   "outputs": [
    {
     "name": "stdout",
     "output_type": "stream",
     "text": [
      "This is a new variable!\n",
      "5\n"
     ]
    }
   ],
   "source": [
    "new_variable = \"This is a new variable!\"\n",
    "\n",
    "print(new_variable)\n",
    "\n",
    "new_variable = 5\n",
    "\n",
    "print(new_variable)"
   ]
  },
  {
   "cell_type": "markdown",
   "id": "58a8c7b7",
   "metadata": {},
   "source": [
    "# Boolean\n",
    "---\n",
    "Boolean is a data type that can either be True or False. Booleans will become more useful when we talk about if/else statemenets."
   ]
  },
  {
   "cell_type": "code",
   "execution_count": 95,
   "id": "0d4e843c",
   "metadata": {},
   "outputs": [],
   "source": [
    "true_value = True\n",
    "false_value = False"
   ]
  },
  {
   "cell_type": "markdown",
   "id": "f3552f27",
   "metadata": {},
   "source": [
    "# String\n",
    "---\n",
    "String is one of the data types that can be assigned to a variable. The strings can either be wrapped in single quotes (') or double quotes(\")."
   ]
  },
  {
   "cell_type": "code",
   "execution_count": 54,
   "id": "377e370f",
   "metadata": {},
   "outputs": [],
   "source": [
    "first_str = 'hello, world'"
   ]
  },
  {
   "cell_type": "markdown",
   "id": "25c66a04",
   "metadata": {},
   "source": [
    "## Modifying a string\n",
    "You and concatonate strings using the `+` operator"
   ]
  },
  {
   "cell_type": "code",
   "execution_count": 55,
   "id": "185b023d",
   "metadata": {},
   "outputs": [
    {
     "name": "stdout",
     "output_type": "stream",
     "text": [
      "hello, world\n"
     ]
    }
   ],
   "source": [
    "str1 = 'hello, '\n",
    "str2 = 'world'\n",
    "\n",
    "new_str = str1 + str2\n",
    "\n",
    "print(new_str)"
   ]
  },
  {
   "cell_type": "markdown",
   "id": "231a26b7",
   "metadata": {},
   "source": [
    "You can use brackets to access certain characters of a string"
   ]
  },
  {
   "cell_type": "code",
   "execution_count": 56,
   "id": "7fb1bd3e",
   "metadata": {},
   "outputs": [
    {
     "data": {
      "text/plain": [
       "'h'"
      ]
     },
     "execution_count": 56,
     "metadata": {},
     "output_type": "execute_result"
    }
   ],
   "source": [
    "new_str[0]"
   ]
  },
  {
   "cell_type": "markdown",
   "id": "ded842d8",
   "metadata": {},
   "source": [
    "You can also use brackets to slice a string. We specify the index of the character we want to start at for the first number, and the index of the character we want to stop at for the second."
   ]
  },
  {
   "cell_type": "code",
   "execution_count": 57,
   "id": "e05f320f",
   "metadata": {},
   "outputs": [
    {
     "data": {
      "text/plain": [
       "'hello'"
      ]
     },
     "execution_count": 57,
     "metadata": {},
     "output_type": "execute_result"
    }
   ],
   "source": [
    "new_str[0:5]"
   ]
  },
  {
   "cell_type": "markdown",
   "id": "e4ba5ea2",
   "metadata": {},
   "source": [
    "# Integer\n",
    "---\n",
    "Integers are another data type that can be assigned to a variable. Python also has several built in math functions that can be used with integers"
   ]
  },
  {
   "cell_type": "code",
   "execution_count": 58,
   "id": "1166b5e3",
   "metadata": {},
   "outputs": [],
   "source": [
    "first_int = 10"
   ]
  },
  {
   "cell_type": "markdown",
   "id": "e2d89aa6",
   "metadata": {},
   "source": [
    "## Add"
   ]
  },
  {
   "cell_type": "code",
   "execution_count": 59,
   "id": "e75dfbd7",
   "metadata": {},
   "outputs": [
    {
     "name": "stdout",
     "output_type": "stream",
     "text": [
      "8\n"
     ]
    }
   ],
   "source": [
    "first_int = 3 + 5\n",
    "print(first_int)"
   ]
  },
  {
   "cell_type": "markdown",
   "id": "fd2934c5",
   "metadata": {},
   "source": [
    "## Subtract"
   ]
  },
  {
   "cell_type": "code",
   "execution_count": 60,
   "id": "18d9a54a",
   "metadata": {},
   "outputs": [
    {
     "name": "stdout",
     "output_type": "stream",
     "text": [
      "9\n"
     ]
    }
   ],
   "source": [
    "first_int = 13 - 4\n",
    "print(first_int)"
   ]
  },
  {
   "cell_type": "markdown",
   "id": "f23e1226",
   "metadata": {},
   "source": [
    "## Multiply"
   ]
  },
  {
   "cell_type": "code",
   "execution_count": 61,
   "id": "f23f0303",
   "metadata": {},
   "outputs": [
    {
     "name": "stdout",
     "output_type": "stream",
     "text": [
      "12\n"
     ]
    }
   ],
   "source": [
    "first_int = 4 * 3\n",
    "print(first_int)"
   ]
  },
  {
   "cell_type": "markdown",
   "id": "e55d9c0e",
   "metadata": {},
   "source": [
    "## Divide"
   ]
  },
  {
   "cell_type": "code",
   "execution_count": 62,
   "id": "92ce7888",
   "metadata": {},
   "outputs": [
    {
     "name": "stdout",
     "output_type": "stream",
     "text": [
      "6.0\n"
     ]
    }
   ],
   "source": [
    "first_int = 30 / 5\n",
    "print(first_int)"
   ]
  },
  {
   "cell_type": "markdown",
   "id": "c0d3d8fc",
   "metadata": {},
   "source": [
    "## Shorthands\n",
    "Shorthands can be used to update integers using less code.\n",
    "\n",
    "### Without using shorthands"
   ]
  },
  {
   "cell_type": "code",
   "execution_count": 63,
   "id": "a84d1434",
   "metadata": {},
   "outputs": [
    {
     "name": "stdout",
     "output_type": "stream",
     "text": [
      "15\n"
     ]
    }
   ],
   "source": [
    "first_int = 10\n",
    "first_int = first_int + 5\n",
    "print(first_int)"
   ]
  },
  {
   "cell_type": "markdown",
   "id": "f74336de",
   "metadata": {},
   "source": [
    "### Using shorthands"
   ]
  },
  {
   "cell_type": "code",
   "execution_count": 64,
   "id": "05bff5ee",
   "metadata": {},
   "outputs": [
    {
     "name": "stdout",
     "output_type": "stream",
     "text": [
      "15\n"
     ]
    }
   ],
   "source": [
    "first_int = 10\n",
    "first_int += 5\n",
    "print(first_int)"
   ]
  },
  {
   "cell_type": "markdown",
   "id": "5e7c2a49",
   "metadata": {},
   "source": [
    "Shorthands can be used with any of the math operators (`+=, -=, *=, /=`)"
   ]
  },
  {
   "cell_type": "markdown",
   "id": "781a9cda",
   "metadata": {},
   "source": [
    "# Tuples\n",
    "---\n",
    "Tuples are variables that can store more than one value. Tuples can be initialized using parenthesis with the values enclosed."
   ]
  },
  {
   "cell_type": "code",
   "execution_count": 92,
   "id": "39bb282a",
   "metadata": {},
   "outputs": [
    {
     "name": "stdout",
     "output_type": "stream",
     "text": [
      "Peyton\n",
      "10\n"
     ]
    }
   ],
   "source": [
    "person_info = ('Peyton', 10)\n",
    "\n",
    "print(person_info[0])\n",
    "print(person_info[1])"
   ]
  },
  {
   "cell_type": "markdown",
   "id": "18a07853",
   "metadata": {},
   "source": [
    "## Destructuring a Tuple\n",
    "Tuples can be destructured in order to give each value their own variable name."
   ]
  },
  {
   "cell_type": "code",
   "execution_count": 94,
   "id": "d5630150",
   "metadata": {},
   "outputs": [
    {
     "name": "stdout",
     "output_type": "stream",
     "text": [
      "Peyton\n",
      "10\n"
     ]
    }
   ],
   "source": [
    "name, number = person_info\n",
    "\n",
    "print(name)\n",
    "print(number)"
   ]
  },
  {
   "cell_type": "markdown",
   "id": "3b265791",
   "metadata": {},
   "source": [
    "# Lists\n",
    "---\n",
    "List is a data type that is used to store more than one data type. They can be assigned to a variable using brackets and the elements that you want to include in it."
   ]
  },
  {
   "cell_type": "code",
   "execution_count": 69,
   "id": "a8bd6590",
   "metadata": {},
   "outputs": [
    {
     "name": "stdout",
     "output_type": "stream",
     "text": [
      "[1, 2, 3, 4, 5]\n"
     ]
    }
   ],
   "source": [
    "first_list = [1, 2, 3, 4, 5]\n",
    "print(first_list)"
   ]
  },
  {
   "cell_type": "markdown",
   "id": "08982e67",
   "metadata": {},
   "source": [
    "Similarly to strings, list elements can be accessed using brackets. Remember, **lists start at 0**."
   ]
  },
  {
   "cell_type": "code",
   "execution_count": 70,
   "id": "dd08af66",
   "metadata": {},
   "outputs": [
    {
     "data": {
      "text/plain": [
       "4"
      ]
     },
     "execution_count": 70,
     "metadata": {},
     "output_type": "execute_result"
    }
   ],
   "source": [
    "first_list[3]"
   ]
  },
  {
   "cell_type": "markdown",
   "id": "ed670327",
   "metadata": {},
   "source": [
    "You can also use brackets to change list elements"
   ]
  },
  {
   "cell_type": "code",
   "execution_count": 71,
   "id": "fdb704f3",
   "metadata": {},
   "outputs": [
    {
     "name": "stdout",
     "output_type": "stream",
     "text": [
      "[10, 2, 3, 4, 5]\n"
     ]
    }
   ],
   "source": [
    "first_list[0] = 10\n",
    "print(first_list)"
   ]
  },
  {
   "cell_type": "markdown",
   "id": "400f2539",
   "metadata": {},
   "source": [
    "# List methods\n",
    "---\n",
    "## Append\n",
    "append() can be use to add elements to the end of the list."
   ]
  },
  {
   "cell_type": "code",
   "execution_count": 72,
   "id": "2d67453f",
   "metadata": {},
   "outputs": [
    {
     "name": "stdout",
     "output_type": "stream",
     "text": [
      "[10, 2, 3, 4, 5, 6]\n"
     ]
    }
   ],
   "source": [
    "first_list.append(6)\n",
    "print(first_list)"
   ]
  },
  {
   "cell_type": "markdown",
   "id": "17e31be8",
   "metadata": {},
   "source": [
    "## Reverse\n",
    "reverse() can be used to put the list in reverse order."
   ]
  },
  {
   "cell_type": "code",
   "execution_count": 73,
   "id": "cc233513",
   "metadata": {},
   "outputs": [
    {
     "name": "stdout",
     "output_type": "stream",
     "text": [
      "[6, 5, 4, 3, 2, 10]\n"
     ]
    }
   ],
   "source": [
    "first_list.reverse()\n",
    "print(first_list)"
   ]
  },
  {
   "cell_type": "markdown",
   "id": "b2900d25",
   "metadata": {},
   "source": [
    "## Sort\n",
    "sort() can be used to sort the list."
   ]
  },
  {
   "cell_type": "code",
   "execution_count": 74,
   "id": "9e0d1016",
   "metadata": {},
   "outputs": [
    {
     "name": "stdout",
     "output_type": "stream",
     "text": [
      "[2, 3, 4, 5, 6, 10]\n"
     ]
    }
   ],
   "source": [
    "first_list.sort()\n",
    "print(first_list)"
   ]
  },
  {
   "cell_type": "markdown",
   "id": "372db1a9",
   "metadata": {},
   "source": [
    "## Insert\n",
    "insert can be used to insert an element at a specified position."
   ]
  },
  {
   "cell_type": "code",
   "execution_count": 75,
   "id": "84d578d2",
   "metadata": {},
   "outputs": [
    {
     "name": "stdout",
     "output_type": "stream",
     "text": [
      "[1, 2, 3, 4, 5, 6, 10]\n"
     ]
    }
   ],
   "source": [
    "first_list.insert(0, 1)\n",
    "# 0 - the index where the element will be inserted\n",
    "# 1 - the element that will be inserted\n",
    "print(first_list)"
   ]
  },
  {
   "cell_type": "markdown",
   "id": "8b80e62e",
   "metadata": {},
   "source": [
    "## Pop\n",
    "pop() can be used to remove an element at the specified position."
   ]
  },
  {
   "cell_type": "code",
   "execution_count": 76,
   "id": "914ad12e",
   "metadata": {},
   "outputs": [
    {
     "name": "stdout",
     "output_type": "stream",
     "text": [
      "[1, 2, 3, 4, 5, 6]\n"
     ]
    }
   ],
   "source": [
    "first_list.pop(len(first_list) - 1)\n",
    "# This operation will remove the last element in the list.\n",
    "# len(first_list) will give us the number of elements in the list.\n",
    "# We then have to subtract 1 because lists start at 0.\n",
    "print(first_list)"
   ]
  },
  {
   "cell_type": "markdown",
   "id": "98753635",
   "metadata": {},
   "source": [
    "## Remove\n",
    "remove() can be used to remove a specified element without knowing the index."
   ]
  },
  {
   "cell_type": "code",
   "execution_count": 77,
   "id": "094d74fe",
   "metadata": {},
   "outputs": [
    {
     "name": "stdout",
     "output_type": "stream",
     "text": [
      "[1, 2, 4, 5, 6]\n"
     ]
    }
   ],
   "source": [
    "first_list.remove(3)\n",
    "print(first_list) # prints the list with '3' removed"
   ]
  },
  {
   "cell_type": "markdown",
   "id": "79bcf5ff",
   "metadata": {},
   "source": [
    "## Index\n",
    "index() can be used to find the index of an element."
   ]
  },
  {
   "cell_type": "code",
   "execution_count": 79,
   "id": "1b16de44",
   "metadata": {},
   "outputs": [
    {
     "name": "stdout",
     "output_type": "stream",
     "text": [
      "2\n"
     ]
    }
   ],
   "source": [
    "index = first_list.index(4)\n",
    "print(index) # prints '2' because 4 is in the second position of the list (lists start at 0)"
   ]
  },
  {
   "cell_type": "markdown",
   "id": "c0999f1c",
   "metadata": {},
   "source": [
    "# Dictionaries\n",
    "---\n",
    "Dictionaries are another commonly used data type in python. Dictionaries allow you to store variables in a key-value format."
   ]
  },
  {
   "cell_type": "code",
   "execution_count": 81,
   "id": "785e0cf6",
   "metadata": {},
   "outputs": [],
   "source": [
    "first_dict = {\n",
    "    'first': 1,\n",
    "    'second': 2,\n",
    "    'third': 3\n",
    "}"
   ]
  },
  {
   "cell_type": "markdown",
   "id": "d72e356d",
   "metadata": {},
   "source": [
    "## Accessing Dictionary Elements\n",
    "Dictionary elements can be accessed with brackets, similarly to lists. "
   ]
  },
  {
   "cell_type": "code",
   "execution_count": 84,
   "id": "b90ee797",
   "metadata": {},
   "outputs": [
    {
     "data": {
      "text/plain": [
       "3"
      ]
     },
     "execution_count": 84,
     "metadata": {},
     "output_type": "execute_result"
    }
   ],
   "source": [
    "first_dict['third']"
   ]
  },
  {
   "cell_type": "markdown",
   "id": "04e7bcac",
   "metadata": {},
   "source": [
    "## Items\n",
    "items() will give you a list of tuples containing the key and value of the dictionary items."
   ]
  },
  {
   "cell_type": "code",
   "execution_count": 88,
   "id": "f32690aa",
   "metadata": {},
   "outputs": [
    {
     "data": {
      "text/plain": [
       "[('first', 1), ('second', 2), ('third', 3)]"
      ]
     },
     "execution_count": 88,
     "metadata": {},
     "output_type": "execute_result"
    }
   ],
   "source": []
  },
  {
   "cell_type": "code",
   "execution_count": null,
   "id": "eb0219c7",
   "metadata": {},
   "outputs": [],
   "source": []
  }
 ],
 "metadata": {
  "kernelspec": {
   "display_name": "Python 3 (ipykernel)",
   "language": "python",
   "name": "python3"
  },
  "language_info": {
   "codemirror_mode": {
    "name": "ipython",
    "version": 3
   },
   "file_extension": ".py",
   "mimetype": "text/x-python",
   "name": "python",
   "nbconvert_exporter": "python",
   "pygments_lexer": "ipython3",
   "version": "3.9.7"
  }
 },
 "nbformat": 4,
 "nbformat_minor": 5
}
